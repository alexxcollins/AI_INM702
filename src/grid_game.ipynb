{
 "cells": [
  {
   "cell_type": "markdown",
   "id": "9707436f-8b78-45c2-a932-fad5770a6977",
   "metadata": {},
   "source": [
    "# Grid Game discussion and results"
   ]
  },
  {
   "cell_type": "code",
   "execution_count": 1,
   "id": "0ced0899-5f73-44f2-b61e-ac46f83d4fe7",
   "metadata": {},
   "outputs": [],
   "source": [
    "from grid_game import *\n",
    "from to_html import *\n",
    "from matplotlib import pyplot as plt\n"
   ]
  },
  {
   "cell_type": "code",
   "execution_count": 2,
   "id": "b181d2b5-a205-403b-8042-319ca8523029",
   "metadata": {},
   "outputs": [],
   "source": [
    "save_html('grid_game','task1_report','.')"
   ]
  },
  {
   "cell_type": "code",
   "execution_count": null,
   "id": "e0c2244b-e9a1-4b68-9fa1-c4129c7b39e1",
   "metadata": {},
   "outputs": [],
   "source": []
  }
 ],
 "metadata": {
  "kernelspec": {
   "display_name": "Python 3 (ipykernel)",
   "language": "python",
   "name": "python3"
  },
  "language_info": {
   "codemirror_mode": {
    "name": "ipython",
    "version": 3
   },
   "file_extension": ".py",
   "mimetype": "text/x-python",
   "name": "python",
   "nbconvert_exporter": "python",
   "pygments_lexer": "ipython3",
   "version": "3.9.7"
  }
 },
 "nbformat": 4,
 "nbformat_minor": 5
}
